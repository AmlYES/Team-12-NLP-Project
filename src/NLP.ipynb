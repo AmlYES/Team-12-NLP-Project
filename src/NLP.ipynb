{
 "cells": [
  {
   "cell_type": "markdown",
   "metadata": {},
   "source": [
    "NLP PROJECT\n"
   ]
  },
  {
   "cell_type": "code",
   "execution_count": 1,
   "metadata": {},
   "outputs": [
    {
     "name": "stdout",
     "output_type": "stream",
     "text": [
      "Requirement already satisfied: nltk in c:\\users\\byte store\\appdata\\local\\programs\\python\\python310\\lib\\site-packages (3.9.1)\n",
      "Requirement already satisfied: regex>=2021.8.3 in c:\\users\\byte store\\appdata\\local\\programs\\python\\python310\\lib\\site-packages (from nltk) (2024.11.6)\n",
      "Requirement already satisfied: tqdm in c:\\users\\byte store\\appdata\\local\\programs\\python\\python310\\lib\\site-packages (from nltk) (4.67.1)\n",
      "Requirement already satisfied: joblib in c:\\users\\byte store\\appdata\\local\\programs\\python\\python310\\lib\\site-packages (from nltk) (1.4.2)\n",
      "Requirement already satisfied: click in c:\\users\\byte store\\appdata\\local\\programs\\python\\python310\\lib\\site-packages (from nltk) (8.1.7)\n",
      "Requirement already satisfied: colorama in c:\\users\\byte store\\appdata\\local\\programs\\python\\python310\\lib\\site-packages (from click->nltk) (0.4.6)\n",
      "Note: you may need to restart the kernel to use updated packages.\n"
     ]
    },
    {
     "name": "stderr",
     "output_type": "stream",
     "text": [
      "WARNING: You are using pip version 21.2.3; however, version 25.0.1 is available.\n",
      "You should consider upgrading via the 'c:\\Users\\Byte Store\\AppData\\Local\\Programs\\Python\\Python310\\python.exe -m pip install --upgrade pip' command.\n"
     ]
    }
   ],
   "source": [
    "%pip install nltk"
   ]
  },
  {
   "cell_type": "code",
   "execution_count": null,
   "metadata": {},
   "outputs": [],
   "source": [
    "%pip install camel_tools\n"
   ]
  },
  {
   "cell_type": "code",
   "execution_count": 1,
   "metadata": {},
   "outputs": [
    {
     "name": "stdout",
     "output_type": "stream",
     "text": [
      "Collecting farasa\n",
      "  Downloading Farasa-0.0.1-py2.py3-none-any.whl (12.6 MB)\n",
      "Installing collected packages: farasa\n",
      "Successfully installed farasa-0.0.1\n",
      "Note: you may need to restart the kernel to use updated packages.\n"
     ]
    },
    {
     "name": "stderr",
     "output_type": "stream",
     "text": [
      "WARNING: You are using pip version 21.2.3; however, version 25.0.1 is available.\n",
      "You should consider upgrading via the 'c:\\Users\\Byte Store\\AppData\\Local\\Programs\\Python\\Python310\\python.exe -m pip install --upgrade pip' command.\n"
     ]
    }
   ],
   "source": [
    "%pip install farasa"
   ]
  },
  {
   "cell_type": "code",
   "execution_count": 2,
   "metadata": {},
   "outputs": [
    {
     "name": "stdout",
     "output_type": "stream",
     "text": [
      "Tokenized Sentences: ['دا مثال بالمصري اما نشوف هيعرف يعمله ولا لا.']\n",
      "Tokenized Words: ['دا', 'مثال', 'بالمصري', 'اما', 'نشوف', 'هيعرف', 'يعمله', 'ولا', 'لا', '.']\n",
      "Cleaned Text (No Diacritics): دا مثال بالمصري اما نشوف هيعرف يعمله ولا لا.\n",
      "Stemmed Words: ['دا', 'ثال', 'صري', 'اما', 'نشف', 'هيعرف', 'عمل', 'ولا', 'لا', '.']\n",
      "Filtered Words (No Stopwords): ['دا', 'مثال', 'بالمصري', 'اما', 'نشوف', 'هيعرف', 'يعمله', '.']\n"
     ]
    },
    {
     "name": "stderr",
     "output_type": "stream",
     "text": [
      "[nltk_data] Downloading package punkt to C:\\Users\\Byte\n",
      "[nltk_data]     Store\\AppData\\Roaming\\nltk_data...\n",
      "[nltk_data]   Package punkt is already up-to-date!\n",
      "[nltk_data] Downloading package stopwords to C:\\Users\\Byte\n",
      "[nltk_data]     Store\\AppData\\Roaming\\nltk_data...\n",
      "[nltk_data]   Package stopwords is already up-to-date!\n"
     ]
    }
   ],
   "source": [
    "import nltk\n",
    "import spacy\n",
    "from nltk.tokenize import word_tokenize, sent_tokenize\n",
    "from nltk.stem.isri import ISRIStemmer\n",
    "from nltk.corpus import stopwords\n",
    "import camel_tools.utils.dediac as dediac \n",
    "\n",
    "# Download necessary Arabic resources\n",
    "nltk.download('punkt')\n",
    "nltk.download('stopwords')\n",
    "\n",
    "# Arabic Tokenization\n",
    "text = \"دا مثال بالمصري اما نشوف هيعرف يعمله ولا لا.\"\n",
    "\n",
    "# Sentence Tokenization\n",
    "sentences = sent_tokenize(text)  \n",
    "\n",
    "# Word Tokenization\n",
    "words = word_tokenize(text)  \n",
    "\n",
    "# Removing Diacritics (for better processing)\n",
    "clean_text = dediac.dediac_ar(text)\n",
    "\n",
    "# Stemming (Arabic ISRI Stemmer)\n",
    "stemmer = ISRIStemmer()\n",
    "stems = [stemmer.stem(word) for word in words]\n",
    "\n",
    "# Stopword Removal\n",
    "stop_words = set(stopwords.words('arabic'))\n",
    "filtered_words = [word for word in words if word not in stop_words]\n",
    "\n",
    "# Print Results\n",
    "print(\"Tokenized Sentences:\", sentences)\n",
    "print(\"Tokenized Words:\", words)\n",
    "print(\"Cleaned Text (No Diacritics):\", clean_text)\n",
    "print(\"Stemmed Words:\", stems)\n",
    "print(\"Filtered Words (No Stopwords):\", filtered_words)\n"
   ]
  },
  {
   "cell_type": "code",
   "execution_count": 3,
   "metadata": {},
   "outputs": [
    {
     "name": "stdout",
     "output_type": "stream",
     "text": [
      "Filtered Words: ['اشتري', 'عارف', 'اختار', 'ايه.']\n"
     ]
    },
    {
     "name": "stderr",
     "output_type": "stream",
     "text": [
      "[nltk_data] Downloading package stopwords to C:\\Users\\Byte\n",
      "[nltk_data]     Store\\AppData\\Roaming\\nltk_data...\n",
      "[nltk_data]   Package stopwords is already up-to-date!\n"
     ]
    }
   ],
   "source": [
    "import nltk\n",
    "from nltk.corpus import stopwords\n",
    "\n",
    "# Download Arabic stopwords\n",
    "nltk.download('stopwords')\n",
    "\n",
    "# Load Standard Arabic Stopwords\n",
    "msa_stopwords = set(stopwords.words('arabic'))\n",
    "\n",
    "# Custom Egyptian Arabic Stopwords\n",
    "egyptian_dialect_stopwords = {\n",
    "    \"ايه\", \"ليه\", \"اه\", \"مش\", \"انا\", \"انت\", \"احنا\", \"انتو\", \"هو\", \"هي\",\n",
    "    \"طب\", \"كدة\", \"كده\", \"عايز\", \"عاوزه\", \"يعني\", \"بص\", \"ماشي\", \"خالص\", \"بالظبط\",\n",
    "    \"اوو\", \"تمام\", \"اصلا\", \"اصلي\", \"اوكي\", \"اوك\", \"برضه\", \"اهو\", \"اها\", \"بقى\", \"خلاص\",\n",
    "    \"ده\", \"دي\", \"دول\", \"حاجة\", \"حاجه\", \"حاجات\", \"واحد\", \"اثنين\", \"تلاتة\", \"اربعة\"\n",
    "}\n",
    "\n",
    "# Combine MSA and Egyptian Arabic stopwords\n",
    "combined_stopwords = msa_stopwords.union(egyptian_dialect_stopwords)\n",
    "\n",
    "# Example Text (Egyptian Arabic)\n",
    "text = \"انا عايز اشتري حاجة بس مش عارف اختار ايه.\"\n",
    "\n",
    "# Tokenization (Simple Split for Example)\n",
    "words = text.split()\n",
    "\n",
    "# Removing Stopwords\n",
    "filtered_words = [word for word in words if word not in combined_stopwords]\n",
    "\n",
    "print(\"Filtered Words:\", filtered_words)\n"
   ]
  },
  {
   "cell_type": "code",
   "execution_count": 4,
   "metadata": {},
   "outputs": [
    {
     "name": "stdout",
     "output_type": "stream",
     "text": [
      "[('انا', 1), ('عايز', 1), ('اشتري', 1), ('حاجة', 1), ('جديدة.', 1), ('ايه', 1), ('رايك', 1), ('في', 1), ('الموبايل', 1), ('ده؟', 1), ('مش', 1), ('عارف', 1), ('اعمل', 1), ('ايه.', 1), ('طب', 1), ('تمام،', 1), ('ماشي.', 1)]\n"
     ]
    }
   ],
   "source": [
    "from collections import Counter\n",
    "\n",
    "# Example dataset (list of sentences)\n",
    "dataset = [\n",
    "    \"انا عايز اشتري حاجة جديدة.\",\n",
    "    \"ايه رايك في الموبايل ده؟\",\n",
    "    \"مش عارف اعمل ايه.\",\n",
    "    \"طب تمام، ماشي.\"\n",
    "]\n",
    "\n",
    "# Tokenize and count words\n",
    "word_counts = Counter(\" \".join(dataset).split())\n",
    "\n",
    "# Print the most common words\n",
    "print(word_counts.most_common(20))  # Manually filter frequent unimportant words\n"
   ]
  },
  {
   "cell_type": "code",
   "execution_count": null,
   "metadata": {},
   "outputs": [],
   "source": []
  }
 ],
 "metadata": {
  "kernelspec": {
   "display_name": "Python 3",
   "language": "python",
   "name": "python3"
  },
  "language_info": {
   "codemirror_mode": {
    "name": "ipython",
    "version": 3
   },
   "file_extension": ".py",
   "mimetype": "text/x-python",
   "name": "python",
   "nbconvert_exporter": "python",
   "pygments_lexer": "ipython3",
   "version": "3.10.0"
  }
 },
 "nbformat": 4,
 "nbformat_minor": 2
}
