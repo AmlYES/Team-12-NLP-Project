{
 "cells": [
  {
   "cell_type": "markdown",
   "metadata": {},
   "source": [
    "NLP PROJECT\n"
   ]
  },
  {
   "cell_type": "code",
   "execution_count": 11,
   "metadata": {},
   "outputs": [
    {
     "name": "stdout",
     "output_type": "stream",
     "text": [
      "Tokenized Sentences: ['دا مثال بالمصري اما نشوف هيعرف يعمله ولا لا.']\n",
      "Tokenized Words: ['دا', 'مثال', 'بالمصري', 'اما', 'نشوف', 'هيعرف', 'يعمله', 'ولا', 'لا', '.']\n",
      "Cleaned Text (No Diacritics): دا مثال بالمصري اما نشوف هيعرف يعمله ولا لا.\n",
      "Stemmed Words: ['دا', 'ثال', 'صري', 'اما', 'نشف', 'هيعرف', 'عمل', 'ولا', 'لا', '.']\n",
      "Filtered Words (No Stopwords): ['دا', 'مثال', 'بالمصري', 'اما', 'نشوف', 'هيعرف', 'يعمله', '.']\n"
     ]
    },
    {
     "name": "stderr",
     "output_type": "stream",
     "text": [
      "[nltk_data] Downloading package punkt to C:\\Users\\Byte\n",
      "[nltk_data]     Store\\AppData\\Roaming\\nltk_data...\n",
      "[nltk_data]   Package punkt is already up-to-date!\n",
      "[nltk_data] Downloading package stopwords to C:\\Users\\Byte\n",
      "[nltk_data]     Store\\AppData\\Roaming\\nltk_data...\n",
      "[nltk_data]   Package stopwords is already up-to-date!\n"
     ]
    }
   ],
   "source": [
    "import nltk\n",
    "import spacy\n",
    "from nltk.tokenize import word_tokenize, sent_tokenize\n",
    "from nltk.stem.isri import ISRIStemmer\n",
    "from nltk.corpus import stopwords\n",
    "import camel_tools.utils.dediac as dediac \n",
    "\n",
    "# Download necessary Arabic resources\n",
    "nltk.download('punkt')\n",
    "nltk.download('stopwords')\n",
    "\n",
    "# Arabic Tokenization\n",
    "text = \"دا مثال بالمصري اما نشوف هيعرف يعمله ولا لا.\"\n",
    "\n",
    "# Sentence Tokenization\n",
    "sentences = sent_tokenize(text)  \n",
    "\n",
    "# Word Tokenization\n",
    "words = word_tokenize(text)  \n",
    "\n",
    "# Removing Diacritics (for better processing)\n",
    "clean_text = dediac.dediac_ar(text)\n",
    "\n",
    "# Stemming (Arabic ISRI Stemmer)\n",
    "stemmer = ISRIStemmer()\n",
    "stems = [stemmer.stem(word) for word in words]\n",
    "\n",
    "# Stopword Removal\n",
    "stop_words = set(stopwords.words('arabic'))\n",
    "filtered_words = [word for word in words if word not in stop_words]\n",
    "\n",
    "# Print Results\n",
    "print(\"Tokenized Sentences:\", sentences)\n",
    "print(\"Tokenized Words:\", words)\n",
    "print(\"Cleaned Text (No Diacritics):\", clean_text)\n",
    "print(\"Stemmed Words:\", stems)\n",
    "print(\"Filtered Words (No Stopwords):\", filtered_words)\n"
   ]
  },
  {
   "cell_type": "code",
   "execution_count": null,
   "metadata": {},
   "outputs": [],
   "source": [
    "%pip install camel_tools\n"
   ]
  },
  {
   "cell_type": "markdown",
   "metadata": {},
   "source": [
    "1- Tokenization\n",
    "2- Lemmetization\n"
   ]
  },
  {
   "cell_type": "code",
   "execution_count": 6,
   "metadata": {},
   "outputs": [
    {
     "name": "stdout",
     "output_type": "stream",
     "text": [
      "Stemmed Word: بدل\n"
     ]
    }
   ],
   "source": [
    "from nltk.stem.isri import ISRIStemmer\n",
    "\n",
    "stemmer = ISRIStemmer()\n",
    "word =\"استبدلوا\"\n",
    "stemmed_word = stemmer.stem(word)\n",
    "\n",
    "print(\"Stemmed Word:\", stemmed_word)  # Output: \"كتب\"\n"
   ]
  },
  {
   "cell_type": "code",
   "execution_count": null,
   "metadata": {},
   "outputs": [],
   "source": []
  }
 ],
 "metadata": {
  "kernelspec": {
   "display_name": "Python 3",
   "language": "python",
   "name": "python3"
  },
  "language_info": {
   "codemirror_mode": {
    "name": "ipython",
    "version": 3
   },
   "file_extension": ".py",
   "mimetype": "text/x-python",
   "name": "python",
   "nbconvert_exporter": "python",
   "pygments_lexer": "ipython3",
   "version": "3.10.0"
  }
 },
 "nbformat": 4,
 "nbformat_minor": 2
}
